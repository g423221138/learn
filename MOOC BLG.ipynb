{
 "cells": [
  {
   "cell_type": "code",
   "execution_count": 4,
   "metadata": {},
   "outputs": [
    {
     "name": "stdout",
     "output_type": "stream",
     "text": [
      "    排名    \t　　　学校名称　　　\t    总分    \n",
      "    1     \t　　　清华大学　　　\t    北京    \n",
      "    2     \t　　　北京大学　　　\t    北京    \n",
      "    3     \t　　　浙江大学　　　\t    浙江    \n",
      "    4     \t　　上海交通大学　　\t    上海    \n",
      "    5     \t　　　复旦大学　　　\t    上海    \n",
      "    6     \t　中国科学技术大学　\t    安徽    \n",
      "    7     \t　　　南京大学　　　\t    江苏    \n",
      "    8     \t　　华中科技大学　　\t    湖北    \n",
      "    9     \t　　　中山大学　　　\t    广东    \n",
      "    10    \t　哈尔滨工业大学　　\t   黑龙江    \n",
      "    11    \t　　　同济大学　　　\t    上海    \n",
      "    12    \t　　　武汉大学　　　\t    湖北    \n",
      "    13    \t　　　东南大学　　　\t    江苏    \n",
      "    14    \t　　西安交通大学　　\t    陕西    \n",
      "    15    \t　北京航空航天大学　\t    北京    \n",
      "    16    \t　　　南开大学　　　\t    天津    \n",
      "    17    \t　　　四川大学　　　\t    四川    \n",
      "    18    \t　　　天津大学　　　\t    天津    \n",
      "    19    \t　　华南理工大学　　\t    广东    \n",
      "    20    \t　　北京师范大学　　\t    北京    \n"
     ]
    }
   ],
   "source": [
    "#爬取中国最好大学排名的案例\n",
    "import requests\n",
    "from bs4 import BeautifulSoup\n",
    "import bs4\n",
    "\n",
    "def getHTMLText(url):\n",
    "    try:\n",
    "        r = requests.get(url, timeout = 30)\n",
    "        r.raise_for_status()\n",
    "        r.encoding = r.apparent_encoding\n",
    "        return r.text\n",
    "    except:\n",
    "        return ''        \n",
    "\n",
    "def fillUnivList(ulist, html):\n",
    "    soup = BeautifulSoup(html, 'html.parser')\n",
    "    for tr in soup.find('tbody').children:\n",
    "        if isinstance(tr, bs4.element.Tag):\n",
    "            tds = tr('td')\n",
    "            ulist.append([tds[0].string, tds[1].string, tds[2].string])\n",
    "\n",
    "def printUnivList(ulist, num):\n",
    "    tplt = '{0:^10}\\t{1:{3}^10}\\t{2:^10}'\n",
    "    print(tplt.format('排名', '学校名称', '总分', chr(12288)))\n",
    "    for i in range(num):\n",
    "        u = ulist[i]\n",
    "        print(tplt.format(u[0], u[1], u[2], chr(12288)))\n",
    "\n",
    "def main():\n",
    "    uinfo = []\n",
    "    url = 'http://www.zuihaodaxue.com/zuihaodaxuepaiming2018.html'\n",
    "    html = getHTMLText(url)\n",
    "    fillUnivList(uinfo, html)\n",
    "    printUnivList(uinfo, 20)\n",
    "\n",
    "main()"
   ]
  },
  {
   "cell_type": "code",
   "execution_count": 6,
   "metadata": {},
   "outputs": [
    {
     "name": "stdout",
     "output_type": "stream",
     "text": [
      "100081\n"
     ]
    }
   ],
   "source": [
    "#search - 在一个字符串中搜索陪正则表达式的第一个位置，返回match对象\n",
    "import re\n",
    "match = re.search(r'[1-9]\\d{5}', 'BIT 100081')\n",
    "if match:\n",
    "    print(match.group(0))"
   ]
  },
  {
   "cell_type": "code",
   "execution_count": 8,
   "metadata": {},
   "outputs": [
    {
     "name": "stdout",
     "output_type": "stream",
     "text": [
      "100081\n"
     ]
    }
   ],
   "source": [
    "#match - 从一个字符串的开始位置起匹配正则表达式，返回match对象\n",
    "import re\n",
    "match = re.match(r'[1-9]\\d{5}', '100081 BIT')\n",
    "if match:\n",
    "    print(match.group(0))"
   ]
  },
  {
   "cell_type": "code",
   "execution_count": 10,
   "metadata": {},
   "outputs": [
    {
     "data": {
      "text/plain": [
       "['100081', '100084']"
      ]
     },
     "execution_count": 10,
     "metadata": {},
     "output_type": "execute_result"
    }
   ],
   "source": [
    "#findall - 搜索字符串，以列表类型返回全部能匹配的子串\n",
    "import re\n",
    "ls = re.findall(r'[1-9]\\d{5}', 'BIT100081 TSU100084')\n",
    "ls"
   ]
  },
  {
   "cell_type": "code",
   "execution_count": 11,
   "metadata": {},
   "outputs": [
    {
     "data": {
      "text/plain": [
       "['BIT', ' TSU', '']"
      ]
     },
     "execution_count": 11,
     "metadata": {},
     "output_type": "execute_result"
    }
   ],
   "source": [
    "#split - 将一个字符串按照正则表达式匹配结果进行分割，返回列表类型\n",
    "import re\n",
    "re.split(r'[1-9]\\d{5}', 'BIT100081 TSU100084')"
   ]
  },
  {
   "cell_type": "code",
   "execution_count": 13,
   "metadata": {},
   "outputs": [
    {
     "data": {
      "text/plain": [
       "['BIT', ' TSU100084']"
      ]
     },
     "execution_count": 13,
     "metadata": {},
     "output_type": "execute_result"
    }
   ],
   "source": [
    "import re\n",
    "re.split(r'[1-9]\\d{5}', 'BIT100081 TSU100084', maxsplit = 1)"
   ]
  },
  {
   "cell_type": "code",
   "execution_count": 14,
   "metadata": {},
   "outputs": [
    {
     "name": "stdout",
     "output_type": "stream",
     "text": [
      "100081\n",
      "100084\n"
     ]
    }
   ],
   "source": [
    "#finditer - 搜索字符串，返回一个匹配结果的迭代类型，每个迭代元素是match对象\n",
    "import re\n",
    "for m in re.finditer(r'[1-9]\\d{5}', 'BIT100081 TSU100084'):\n",
    "    if m:\n",
    "        print(m.group(0))"
   ]
  },
  {
   "cell_type": "code",
   "execution_count": 15,
   "metadata": {},
   "outputs": [
    {
     "data": {
      "text/plain": [
       "'BIT:zipcode TSU:zipcode'"
      ]
     },
     "execution_count": 15,
     "metadata": {},
     "output_type": "execute_result"
    }
   ],
   "source": [
    "#sub - 在一个字符串中替换所有匹配正则表达式的子串，返回替换后的字符串\n",
    "import re\n",
    "re.sub(r'[1-9]\\d{5}', ':zipcode', 'BIT100081 TSU100084')"
   ]
  },
  {
   "cell_type": "code",
   "execution_count": 16,
   "metadata": {},
   "outputs": [
    {
     "data": {
      "text/plain": [
       "'https://search.jd.com/Search?keyword=%E6%89%8B%E6%9C%BA&enc=utf-8&qrst=1&rt=1&stop=1&vt=2&wq=%E6%89%8B%E6%9C%BA&cid2=653&cid3=655&page=5&s=112&click=0'"
      ]
     },
     "execution_count": 16,
     "metadata": {},
     "output_type": "execute_result"
    }
   ],
   "source": [
    "'https://search.jd.com/Search?keyword=%E6%89%8B%E6%9C%BA&enc=utf-8&wq=%E6%89%8B%E6%9C%BA&pvid=55bdf2702e0e44c2b8311c39327c1549'\n",
    "'https://search.jd.com/Search?keyword=%E6%89%8B%E6%9C%BA&enc=utf-8&qrst=1&rt=1&stop=1&vt=2&wq=%E6%89%8B%E6%9C%BA&cid2=653&cid3=655&page=3&s=57&click=0'\n",
    "'https://search.jd.com/Search?keyword=%E6%89%8B%E6%9C%BA&enc=utf-8&qrst=1&rt=1&stop=1&vt=2&wq=%E6%89%8B%E6%9C%BA&cid2=653&cid3=655&page=5&s=112&click=0'"
   ]
  },
  {
   "cell_type": "code",
   "execution_count": 20,
   "metadata": {},
   "outputs": [
    {
     "name": "stdout",
     "output_type": "stream",
     "text": [
      "序号  \t价格      \t商品名称            \n"
     ]
    }
   ],
   "source": [
    "#原爬淘宝，但失败，网页改版\n",
    "import requests\n",
    "import re\n",
    "\n",
    "def getHTMLText(url):\n",
    "    try:\n",
    "        r = requests.get(url, timeout = 30)\n",
    "        r.raise_for_status()\n",
    "        r.encoding = r.apparent_encoding\n",
    "        return r.text\n",
    "    except:\n",
    "        return ''\n",
    "    \n",
    "def parseParse(ilt, html):\n",
    "    try:\n",
    "        plt = re.findall(r'\\\"p-price\\\"\\:\\\"[\\d\\.]*\\\"',html)\n",
    "        tlt = re.findall(r'\\\"p-name p-name-type-2\\\"\\:\\\".*?\\\"',html)\n",
    "        for i in range(len(plt)):\n",
    "            price = eval(plt[i].split(':')[1])\n",
    "            title = eval(plt[i].split(':')[1])\n",
    "            ilt.append([price,title])\n",
    "    except:\n",
    "        print('')\n",
    "    \n",
    "def printGoodsList(ilt):\n",
    "    tplt = '{:4}\\t{:8}\\t{:16}'\n",
    "    print(tplt.format('序号', '价格', '商品名称'))\n",
    "    count = 0\n",
    "    for g in ilt:\n",
    "        count = count + 1\n",
    "        print(tplt.format(count, g[0], g[1]))\n",
    "\n",
    "def main():\n",
    "    goods = '手机'\n",
    "    depth = 2\n",
    "    start_url = 'https://search.jd.com/Search?keyword=' + goods\n",
    "    infoList = []\n",
    "    for i in range(depth):\n",
    "        try:\n",
    "            url = start_url + '&s=' + str(60*i)\n",
    "            html = getHTMLText(url)\n",
    "            parsePage(infoList, html)\n",
    "        except:\n",
    "            continue\n",
    "    printGoodsList(infoList)\n",
    "\n",
    "main()"
   ]
  },
  {
   "cell_type": "code",
   "execution_count": 24,
   "metadata": {},
   "outputs": [],
   "source": [
    "#爬股票信息（爬不出来）\n",
    "import requests\n",
    "from bs4 import BeautifulSoup\n",
    "import traceback\n",
    "import re\n",
    "\n",
    "def getHTMLText(url, code = 'utf-8'):\n",
    "    try:\n",
    "        r = requests.get(url, timeout = 30)\n",
    "        r.raise_for_status()\n",
    "        r.encoding = code\n",
    "        return r.text\n",
    "    except:\n",
    "        return ''\n",
    "\n",
    "def getStockList(lst, stockURL):\n",
    "    html = getHTMLText(stockURL, 'GB2312')\n",
    "    soup = BeautifulSoup(html, 'html.parser')\n",
    "    a = soup.find_all('a')\n",
    "    for i in a:\n",
    "        try:\n",
    "            href = i.attrs['href']\n",
    "            lst.append(re.findall(r\"[s][hz]\\d{6})\", href)[0])\n",
    "        except:\n",
    "            continue\n",
    "\n",
    "def getStockInfo(lst, stockURL, fpath):\n",
    "    count = 0\n",
    "    for stock in lst:\n",
    "        url = stockURL + stock + \".html\"\n",
    "        html = getHTMLText(url)\n",
    "        try:\n",
    "            if html == '':\n",
    "                continue\n",
    "            infoDict = {}\n",
    "            soup = BeautifulSoup(html, 'html.parser')\n",
    "            stockInfo = soup.find('div', attrs = {'class':'stock-bets'})\n",
    "            \n",
    "            name = stockInfo.find_all(attrs = {'class':'bet-name'})[0]\n",
    "            infoDict.update({'股票名称': name.text.split()[0]})\n",
    "            \n",
    "            keyList = stockInfo.find_all('dt')\n",
    "            valueList = stockInfo.find_all('dd')\n",
    "            for i in range(len(keyList)):\n",
    "                key = keyList[i].text\n",
    "                val = valueList[i].text\n",
    "                infoDict[key] = val\n",
    "            \n",
    "            with open(fpath, 'a', encoding = 'utf-8') as f:\n",
    "                f.write(str(infoDict) + '\\n')\n",
    "                count = count + 1\n",
    "                print('\\r当前速度: {:.2f}%'.format(count*100/len(lst)), end='')\n",
    "        except:\n",
    "            count = count + 1\n",
    "            print('\\r当前速度: {:.2f}%'.format(count*100/len(lst)), end='')\n",
    "            continue\n",
    "\n",
    "def main():\n",
    "    stock_list_url = 'http://quote.eastmoney.com/stocklist.html'\n",
    "    stock_info_url = 'https://gupiao.baidu.com/stock/'\n",
    "    output_file = 'D://BaiduStockInfo.txt'\n",
    "    slist = []\n",
    "    getStockList(slist, stock_list_url)\n",
    "    getStockInfo(slist, stock_info_url, output_file)\n",
    "    \n",
    "main()"
   ]
  },
  {
   "cell_type": "code",
   "execution_count": null,
   "metadata": {},
   "outputs": [],
   "source": []
  }
 ],
 "metadata": {
  "kernelspec": {
   "display_name": "Python 3",
   "language": "python",
   "name": "python3"
  },
  "language_info": {
   "codemirror_mode": {
    "name": "ipython",
    "version": 3
   },
   "file_extension": ".py",
   "mimetype": "text/x-python",
   "name": "python",
   "nbconvert_exporter": "python",
   "pygments_lexer": "ipython3",
   "version": "3.6.5"
  }
 },
 "nbformat": 4,
 "nbformat_minor": 2
}
